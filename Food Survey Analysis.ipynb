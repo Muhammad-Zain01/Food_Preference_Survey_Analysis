{
 "cells": [
  {
   "cell_type": "code",
   "execution_count": 1,
   "metadata": {},
   "outputs": [],
   "source": [
    "import pandas as pd\n",
    "import numpy as np\n",
    "import seaborn as sns\n",
    "import matplotlib.pyplot as plt"
   ]
  },
  {
   "cell_type": "code",
   "execution_count": 2,
   "metadata": {},
   "outputs": [],
   "source": [
    "df = pd.read_csv('Food_Preference.csv',parse_dates=['Timestamp'])"
   ]
  },
  {
   "cell_type": "markdown",
   "metadata": {},
   "source": [
    "### Data Cleaning and Wrangling"
   ]
  },
  {
   "cell_type": "code",
   "execution_count": 3,
   "metadata": {},
   "outputs": [
    {
     "data": {
      "text/html": [
       "<div>\n",
       "<style scoped>\n",
       "    .dataframe tbody tr th:only-of-type {\n",
       "        vertical-align: middle;\n",
       "    }\n",
       "\n",
       "    .dataframe tbody tr th {\n",
       "        vertical-align: top;\n",
       "    }\n",
       "\n",
       "    .dataframe thead th {\n",
       "        text-align: right;\n",
       "    }\n",
       "</style>\n",
       "<table border=\"1\" class=\"dataframe\">\n",
       "  <thead>\n",
       "    <tr style=\"text-align: right;\">\n",
       "      <th></th>\n",
       "      <th>Timestamp</th>\n",
       "      <th>Participant_ID</th>\n",
       "      <th>Gender</th>\n",
       "      <th>Nationality</th>\n",
       "      <th>Age</th>\n",
       "      <th>Food</th>\n",
       "      <th>Juice</th>\n",
       "      <th>Dessert</th>\n",
       "    </tr>\n",
       "  </thead>\n",
       "  <tbody>\n",
       "    <tr>\n",
       "      <th>0</th>\n",
       "      <td>2019-05-07 14:59:13-08:00</td>\n",
       "      <td>FPS001</td>\n",
       "      <td>Male</td>\n",
       "      <td>Indian</td>\n",
       "      <td>24</td>\n",
       "      <td>Traditional food</td>\n",
       "      <td>Fresh Juice</td>\n",
       "      <td>Maybe</td>\n",
       "    </tr>\n",
       "    <tr>\n",
       "      <th>1</th>\n",
       "      <td>2019-05-07 14:59:45-08:00</td>\n",
       "      <td>FPS002</td>\n",
       "      <td>Female</td>\n",
       "      <td>Indian</td>\n",
       "      <td>22</td>\n",
       "      <td>Western Food</td>\n",
       "      <td>Carbonated drinks</td>\n",
       "      <td>Yes</td>\n",
       "    </tr>\n",
       "    <tr>\n",
       "      <th>2</th>\n",
       "      <td>2019-05-07 15:00:05-08:00</td>\n",
       "      <td>FPS003</td>\n",
       "      <td>Male</td>\n",
       "      <td>Indian</td>\n",
       "      <td>31</td>\n",
       "      <td>Western Food</td>\n",
       "      <td>Fresh Juice</td>\n",
       "      <td>Maybe</td>\n",
       "    </tr>\n",
       "    <tr>\n",
       "      <th>3</th>\n",
       "      <td>2019-05-07 15:00:11-08:00</td>\n",
       "      <td>FPS004</td>\n",
       "      <td>Female</td>\n",
       "      <td>Indian</td>\n",
       "      <td>25</td>\n",
       "      <td>Traditional food</td>\n",
       "      <td>Fresh Juice</td>\n",
       "      <td>Maybe</td>\n",
       "    </tr>\n",
       "    <tr>\n",
       "      <th>4</th>\n",
       "      <td>2019-05-07 15:02:50-08:00</td>\n",
       "      <td>FPS005</td>\n",
       "      <td>Male</td>\n",
       "      <td>Indian</td>\n",
       "      <td>27</td>\n",
       "      <td>Traditional food</td>\n",
       "      <td>Fresh Juice</td>\n",
       "      <td>Maybe</td>\n",
       "    </tr>\n",
       "  </tbody>\n",
       "</table>\n",
       "</div>"
      ],
      "text/plain": [
       "                  Timestamp Participant_ID  Gender Nationality  Age  \\\n",
       "0 2019-05-07 14:59:13-08:00         FPS001    Male      Indian   24   \n",
       "1 2019-05-07 14:59:45-08:00         FPS002  Female      Indian   22   \n",
       "2 2019-05-07 15:00:05-08:00         FPS003    Male      Indian   31   \n",
       "3 2019-05-07 15:00:11-08:00         FPS004  Female      Indian   25   \n",
       "4 2019-05-07 15:02:50-08:00         FPS005    Male      Indian   27   \n",
       "\n",
       "               Food              Juice Dessert  \n",
       "0  Traditional food        Fresh Juice   Maybe  \n",
       "1      Western Food  Carbonated drinks     Yes  \n",
       "2      Western Food        Fresh Juice   Maybe  \n",
       "3  Traditional food        Fresh Juice   Maybe  \n",
       "4  Traditional food        Fresh Juice   Maybe  "
      ]
     },
     "execution_count": 3,
     "metadata": {},
     "output_type": "execute_result"
    }
   ],
   "source": [
    "df.head()"
   ]
  },
  {
   "cell_type": "markdown",
   "metadata": {},
   "source": [
    "Removing Timestamp and Participant ID due to no use"
   ]
  },
  {
   "cell_type": "code",
   "execution_count": 4,
   "metadata": {},
   "outputs": [],
   "source": [
    "df.drop(['Timestamp','Participant_ID'],axis=1,inplace=True)"
   ]
  },
  {
   "cell_type": "markdown",
   "metadata": {},
   "source": [
    "#### Filling NA Values"
   ]
  },
  {
   "cell_type": "code",
   "execution_count": 5,
   "metadata": {},
   "outputs": [
    {
     "data": {
      "text/plain": [
       "Gender         4\n",
       "Nationality    0\n",
       "Age            0\n",
       "Food           0\n",
       "Juice          0\n",
       "Dessert        0\n",
       "dtype: int64"
      ]
     },
     "execution_count": 5,
     "metadata": {},
     "output_type": "execute_result"
    }
   ],
   "source": [
    "df.isnull().sum()"
   ]
  },
  {
   "cell_type": "code",
   "execution_count": 6,
   "metadata": {},
   "outputs": [
    {
     "data": {
      "text/html": [
       "<div>\n",
       "<style scoped>\n",
       "    .dataframe tbody tr th:only-of-type {\n",
       "        vertical-align: middle;\n",
       "    }\n",
       "\n",
       "    .dataframe tbody tr th {\n",
       "        vertical-align: top;\n",
       "    }\n",
       "\n",
       "    .dataframe thead th {\n",
       "        text-align: right;\n",
       "    }\n",
       "</style>\n",
       "<table border=\"1\" class=\"dataframe\">\n",
       "  <thead>\n",
       "    <tr style=\"text-align: right;\">\n",
       "      <th></th>\n",
       "      <th>Gender</th>\n",
       "      <th>Nationality</th>\n",
       "      <th>Age</th>\n",
       "      <th>Food</th>\n",
       "      <th>Juice</th>\n",
       "      <th>Dessert</th>\n",
       "    </tr>\n",
       "  </thead>\n",
       "  <tbody>\n",
       "    <tr>\n",
       "      <th>14</th>\n",
       "      <td>NaN</td>\n",
       "      <td>Muslim</td>\n",
       "      <td>27</td>\n",
       "      <td>Traditional food</td>\n",
       "      <td>Fresh Juice</td>\n",
       "      <td>Yes</td>\n",
       "    </tr>\n",
       "    <tr>\n",
       "      <th>225</th>\n",
       "      <td>NaN</td>\n",
       "      <td>Indian</td>\n",
       "      <td>30</td>\n",
       "      <td>Traditional food</td>\n",
       "      <td>Fresh Juice</td>\n",
       "      <td>Yes</td>\n",
       "    </tr>\n",
       "    <tr>\n",
       "      <th>268</th>\n",
       "      <td>NaN</td>\n",
       "      <td>Indian</td>\n",
       "      <td>23</td>\n",
       "      <td>Traditional food</td>\n",
       "      <td>Fresh Juice</td>\n",
       "      <td>Yes</td>\n",
       "    </tr>\n",
       "    <tr>\n",
       "      <th>277</th>\n",
       "      <td>NaN</td>\n",
       "      <td>Indian</td>\n",
       "      <td>26</td>\n",
       "      <td>Traditional food</td>\n",
       "      <td>Fresh Juice</td>\n",
       "      <td>Yes</td>\n",
       "    </tr>\n",
       "  </tbody>\n",
       "</table>\n",
       "</div>"
      ],
      "text/plain": [
       "    Gender Nationality  Age              Food        Juice Dessert\n",
       "14     NaN      Muslim   27  Traditional food  Fresh Juice     Yes\n",
       "225    NaN      Indian   30  Traditional food  Fresh Juice     Yes\n",
       "268    NaN      Indian   23  Traditional food  Fresh Juice     Yes\n",
       "277    NaN      Indian   26  Traditional food  Fresh Juice     Yes"
      ]
     },
     "execution_count": 6,
     "metadata": {},
     "output_type": "execute_result"
    }
   ],
   "source": [
    "df[df.Gender.isna()]"
   ]
  },
  {
   "cell_type": "code",
   "execution_count": 7,
   "metadata": {},
   "outputs": [
    {
     "data": {
      "text/plain": [
       "Female    165\n",
       "Male      119\n",
       "Name: Gender, dtype: int64"
      ]
     },
     "execution_count": 7,
     "metadata": {},
     "output_type": "execute_result"
    }
   ],
   "source": [
    "df.Gender.value_counts()"
   ]
  },
  {
   "cell_type": "code",
   "execution_count": 8,
   "metadata": {},
   "outputs": [],
   "source": [
    "df.Gender.fillna('Female',inplace=True)"
   ]
  },
  {
   "cell_type": "code",
   "execution_count": 9,
   "metadata": {},
   "outputs": [
    {
     "data": {
      "text/plain": [
       "array(['Indian', 'Pakistani ', 'Tanzanian', 'Indonesia', 'Muslim',\n",
       "       'Pakistan', 'Maldivian ', 'MY', 'Malaysian', 'Malaysian ',\n",
       "       'Indonesian ', 'Maldivian', 'MALAYSIAN', 'Malaysia ', 'Pakistani',\n",
       "       'Canadian', 'Nigerian ', 'Algerian ', 'Korean ', 'Seychellois',\n",
       "       'Indonesain', 'Indonesian', 'Malaysia', 'Japan', 'China',\n",
       "       'Mauritian', 'Yemen'], dtype=object)"
      ]
     },
     "execution_count": 9,
     "metadata": {},
     "output_type": "execute_result"
    }
   ],
   "source": [
    "df.Nationality.unique()"
   ]
  },
  {
   "cell_type": "code",
   "execution_count": 10,
   "metadata": {},
   "outputs": [
    {
     "data": {
      "text/plain": [
       "Indian         241\n",
       "Malaysian       10\n",
       "Indonesia        7\n",
       "Pakistani        3\n",
       "Japan            2\n",
       "Maldivian        2\n",
       "MY               2\n",
       "Pakistani        2\n",
       "Algerian         1\n",
       "Canadian         1\n",
       "Seychellois      1\n",
       "Korean           1\n",
       "Muslim           1\n",
       "Malaysia         1\n",
       "China            1\n",
       "Malaysia         1\n",
       "Indonesian       1\n",
       "Nigerian         1\n",
       "MALAYSIAN        1\n",
       "Tanzanian        1\n",
       "Indonesian       1\n",
       "Yemen            1\n",
       "Mauritian        1\n",
       "Pakistan         1\n",
       "Indonesain       1\n",
       "Maldivian        1\n",
       "Malaysian        1\n",
       "Name: Nationality, dtype: int64"
      ]
     },
     "execution_count": 10,
     "metadata": {},
     "output_type": "execute_result"
    }
   ],
   "source": [
    "df.Nationality.value_counts()"
   ]
  },
  {
   "cell_type": "code",
   "execution_count": 11,
   "metadata": {},
   "outputs": [],
   "source": [
    "df.Nationality = df.Nationality.apply(lambda x: x.lower())\n",
    "df.Nationality = df.Nationality.apply(lambda x: x.strip())\n",
    "def simp(s):\n",
    "    if s=='pakistan':\n",
    "        return 'pakistani'\n",
    "    elif s=='my':\n",
    "        return 'malaysian'\n",
    "    elif s=='malasysia':\n",
    "        return 'malaysian'\n",
    "    elif s=='indonesia':\n",
    "        return 'indonesian'\n",
    "    elif s=='indonesain':\n",
    "        return 'indonesian'\n",
    "    elif s=='malaysia':\n",
    "        return \"malaysian\"\n",
    "    else:\n",
    "        return s"
   ]
  },
  {
   "cell_type": "code",
   "execution_count": 12,
   "metadata": {},
   "outputs": [],
   "source": [
    "df.Nationality = df.Nationality.apply(simp)"
   ]
  },
  {
   "cell_type": "code",
   "execution_count": 13,
   "metadata": {},
   "outputs": [],
   "source": [
    "Nations = list(df.Nationality.apply(simp).value_counts().head(4).index)"
   ]
  },
  {
   "cell_type": "code",
   "execution_count": 14,
   "metadata": {},
   "outputs": [],
   "source": [
    "df2 = df[df.Nationality.isin(Nations)]"
   ]
  },
  {
   "cell_type": "code",
   "execution_count": 15,
   "metadata": {},
   "outputs": [
    {
     "data": {
      "text/html": [
       "<div>\n",
       "<style scoped>\n",
       "    .dataframe tbody tr th:only-of-type {\n",
       "        vertical-align: middle;\n",
       "    }\n",
       "\n",
       "    .dataframe tbody tr th {\n",
       "        vertical-align: top;\n",
       "    }\n",
       "\n",
       "    .dataframe thead th {\n",
       "        text-align: right;\n",
       "    }\n",
       "</style>\n",
       "<table border=\"1\" class=\"dataframe\">\n",
       "  <thead>\n",
       "    <tr style=\"text-align: right;\">\n",
       "      <th></th>\n",
       "      <th>Age</th>\n",
       "    </tr>\n",
       "  </thead>\n",
       "  <tbody>\n",
       "    <tr>\n",
       "      <th>count</th>\n",
       "      <td>273.000000</td>\n",
       "    </tr>\n",
       "    <tr>\n",
       "      <th>mean</th>\n",
       "      <td>30.846154</td>\n",
       "    </tr>\n",
       "    <tr>\n",
       "      <th>std</th>\n",
       "      <td>11.405871</td>\n",
       "    </tr>\n",
       "    <tr>\n",
       "      <th>min</th>\n",
       "      <td>8.000000</td>\n",
       "    </tr>\n",
       "    <tr>\n",
       "      <th>25%</th>\n",
       "      <td>24.000000</td>\n",
       "    </tr>\n",
       "    <tr>\n",
       "      <th>50%</th>\n",
       "      <td>28.000000</td>\n",
       "    </tr>\n",
       "    <tr>\n",
       "      <th>75%</th>\n",
       "      <td>37.000000</td>\n",
       "    </tr>\n",
       "    <tr>\n",
       "      <th>max</th>\n",
       "      <td>80.000000</td>\n",
       "    </tr>\n",
       "  </tbody>\n",
       "</table>\n",
       "</div>"
      ],
      "text/plain": [
       "              Age\n",
       "count  273.000000\n",
       "mean    30.846154\n",
       "std     11.405871\n",
       "min      8.000000\n",
       "25%     24.000000\n",
       "50%     28.000000\n",
       "75%     37.000000\n",
       "max     80.000000"
      ]
     },
     "execution_count": 15,
     "metadata": {},
     "output_type": "execute_result"
    }
   ],
   "source": [
    "df2.describe()"
   ]
  },
  {
   "cell_type": "code",
   "execution_count": 16,
   "metadata": {},
   "outputs": [
    {
     "data": {
      "text/plain": [
       "<seaborn.axisgrid.FacetGrid at 0x1671d0d0bb0>"
      ]
     },
     "execution_count": 16,
     "metadata": {},
     "output_type": "execute_result"
    },
    {
     "data": {
      "image/png": "[encoded data removed]",
      "text/plain": [
       "<Figure size 360x360 with 1 Axes>"
      ]
     },
     "metadata": {
      "needs_background": "light"
     },
     "output_type": "display_data"
    }
   ],
   "source": [
    "sns.displot(df2.Age,kde=True)"
   ]
  },
  {
   "cell_type": "code",
   "execution_count": 17,
   "metadata": {},
   "outputs": [
    {
     "data": {
      "text/plain": [
       "68.95999999999981"
      ]
     },
     "execution_count": 17,
     "metadata": {},
     "output_type": "execute_result"
    }
   ],
   "source": [
    "df2.Age.quantile(0.99)"
   ]
  },
  {
   "cell_type": "code",
   "execution_count": 18,
   "metadata": {},
   "outputs": [],
   "source": [
    "df3  = df2[-(df2.Age>70)]"
   ]
  },
  {
   "cell_type": "code",
   "execution_count": 19,
   "metadata": {},
   "outputs": [
    {
     "data": {
      "text/plain": [
       "<seaborn.axisgrid.FacetGrid at 0x16721266550>"
      ]
     },
     "execution_count": 19,
     "metadata": {},
     "output_type": "execute_result"
    },
    {
     "data": {
      "image/png": "[encoded data removed]",
      "text/plain": [
       "<Figure size 360x360 with 1 Axes>"
      ]
     },
     "metadata": {
      "needs_background": "light"
     },
     "output_type": "display_data"
    }
   ],
   "source": [
    "sns.displot(df3.Age,kde=True)"
   ]
  },
  {
   "cell_type": "code",
   "execution_count": 20,
   "metadata": {},
   "outputs": [
    {
     "data": {
      "text/plain": [
       "array(['Traditional food', 'Western Food'], dtype=object)"
      ]
     },
     "execution_count": 20,
     "metadata": {},
     "output_type": "execute_result"
    }
   ],
   "source": [
    "df3.Food.unique()"
   ]
  },
  {
   "cell_type": "code",
   "execution_count": 21,
   "metadata": {},
   "outputs": [
    {
     "data": {
      "text/plain": [
       "array(['Fresh Juice', 'Carbonated drinks'], dtype=object)"
      ]
     },
     "execution_count": 21,
     "metadata": {},
     "output_type": "execute_result"
    }
   ],
   "source": [
    "df3.Juice.unique()"
   ]
  },
  {
   "cell_type": "code",
   "execution_count": 22,
   "metadata": {},
   "outputs": [
    {
     "data": {
      "text/plain": [
       "array(['Maybe', 'Yes', 'No'], dtype=object)"
      ]
     },
     "execution_count": 22,
     "metadata": {},
     "output_type": "execute_result"
    }
   ],
   "source": [
    "df3.Dessert.unique()"
   ]
  },
  {
   "cell_type": "code",
   "execution_count": 23,
   "metadata": {},
   "outputs": [
    {
     "data": {
      "text/plain": [
       "indian        238\n",
       "malaysian      16\n",
       "indonesian     10\n",
       "pakistani       6\n",
       "Name: Nationality, dtype: int64"
      ]
     },
     "execution_count": 23,
     "metadata": {},
     "output_type": "execute_result"
    }
   ],
   "source": [
    "df3.Nationality.value_counts()"
   ]
  },
  {
   "cell_type": "markdown",
   "metadata": {},
   "source": [
    "using nationality as Indian because we do not have to much data for another Nationalities"
   ]
  },
  {
   "cell_type": "markdown",
   "metadata": {},
   "source": [
    "### EDA and Data Visualization"
   ]
  },
  {
   "cell_type": "code",
   "execution_count": 24,
   "metadata": {},
   "outputs": [],
   "source": [
    "indian = df3[df3.Nationality == 'indian']"
   ]
  },
  {
   "cell_type": "code",
   "execution_count": 25,
   "metadata": {},
   "outputs": [
    {
     "data": {
      "text/plain": [
       "<seaborn.axisgrid.FacetGrid at 0x167212fec10>"
      ]
     },
     "execution_count": 25,
     "metadata": {},
     "output_type": "execute_result"
    },
    {
     "data": {
      "image/png": "[encoded data removed]",
      "text/plain": [
       "<Figure size 1208.12x360 with 3 Axes>"
      ]
     },
     "metadata": {
      "needs_background": "light"
     },
     "output_type": "display_data"
    }
   ],
   "source": [
    "sns.catplot(y = 'Age',x = 'Food',data=indian,kind='bar',hue='Juice',col='Dessert')"
   ]
  },
  {
   "cell_type": "code",
   "execution_count": 26,
   "metadata": {},
   "outputs": [
    {
     "data": {
      "text/plain": [
       "<seaborn.axisgrid.FacetGrid at 0x16721590b50>"
      ]
     },
     "execution_count": 26,
     "metadata": {},
     "output_type": "execute_result"
    },
    {
     "data": {
      "image/png": "[encoded data removed]",
      "text/plain": [
       "<Figure size 432.125x360 with 1 Axes>"
      ]
     },
     "metadata": {
      "needs_background": "light"
     },
     "output_type": "display_data"
    }
   ],
   "source": [
    "sns.catplot(y = 'Age',x = 'Food',data=indian,kind='bar',hue='Gender',col='Nationality')"
   ]
  },
  {
   "cell_type": "code",
   "execution_count": 27,
   "metadata": {},
   "outputs": [
    {
     "data": {
      "text/plain": [
       "<seaborn.axisgrid.FacetGrid at 0x1671f14cf10>"
      ]
     },
     "execution_count": 27,
     "metadata": {},
     "output_type": "execute_result"
    },
    {
     "data": {
      "image/png": "[encoded data removed]",
      "text/plain": [
       "<Figure size 360x360 with 1 Axes>"
      ]
     },
     "metadata": {
      "needs_background": "light"
     },
     "output_type": "display_data"
    }
   ],
   "source": [
    "sns.catplot(y = 'Age',x = 'Juice',data=indian,kind='bar')"
   ]
  },
  {
   "cell_type": "code",
   "execution_count": 28,
   "metadata": {
    "scrolled": true
   },
   "outputs": [
    {
     "data": {
      "image/png": "[encoded data removed]",
      "text/plain": [
       "<Figure size 432.125x360 with 1 Axes>"
      ]
     },
     "metadata": {
      "needs_background": "light"
     },
     "output_type": "display_data"
    }
   ],
   "source": [
    "sns.catplot(y = 'Age',x = 'Juice',data=indian,kind='bar',hue='Gender')\n",
    "plt.show()"
   ]
  },
  {
   "cell_type": "markdown",
   "metadata": {},
   "source": [
    "#### Interpretation\n",
    "This Chart shows that Western food eaters are quite younger than Traditional Food eaters, According to this survey the Person, who do not take desserts, also not taking Carbonated Drinks and taking Fresh Juice,This can be due to Diabetic Patient or Health conscious, while those who take dessert are more likely to be take carbonated Drinks over Fresh Juice."
   ]
  }
 ],
 "metadata": {
  "kernelspec": {
   "display_name": "Python 3",
   "language": "python",
   "name": "python3"
  },
  "language_info": {
   "codemirror_mode": {
    "name": "ipython",
    "version": 3
   },
   "file_extension": ".py",
   "mimetype": "text/x-python",
   "name": "python",
   "nbconvert_exporter": "python",
   "pygments_lexer": "ipython3",
   "version": "3.9.1"
  }
 },
 "nbformat": 4,
 "nbformat_minor": 4
}
